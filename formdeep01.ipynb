{
  "nbformat": 4,
  "nbformat_minor": 0,
  "metadata": {
    "colab": {
      "provenance": [],
      "toc_visible": true,
      "include_colab_link": true
    },
    "kernelspec": {
      "name": "python3",
      "display_name": "Python 3"
    },
    "language_info": {
      "name": "python"
    }
  },
  "cells": [
    {
      "cell_type": "markdown",
      "metadata": {
        "id": "view-in-github",
        "colab_type": "text"
      },
      "source": [
        "<a href=\"https://colab.research.google.com/github/julitostrong/PROGET-PYTHON_skearn/blob/main/formdeep01.ipynb\" target=\"_parent\"><img src=\"https://colab.research.google.com/assets/colab-badge.svg\" alt=\"Open In Colab\"/></a>"
      ]
    },
    {
      "cell_type": "markdown",
      "source": [
        "#**Reconnaissance d'écriture manuscrite à l'aide de CNN**"
      ],
      "metadata": {
        "id": "jGcbk5-CmEiB"
      }
    },
    {
      "cell_type": "markdown",
      "source": [
        "**Les CNN :**\n",
        "\n",
        "Les réseaux de neurones convolutionnels (Convolutional Neural Networks, CNN) sont un type de réseaux de neurones utilisés couramment en apprentissage automatique pour la reconnaissance d'images et de patterns. Ils sont particulièrement efficaces pour traiter des données qui ont une structure spatiale, comme les images et les séries temporelles.\n",
        "\n",
        "Les CNN sont construits à partir de couches de neurones qui utilisent des filtres de convolution pour détecter des motifs dans les données d'entrée. Ces filtres sont des matrices de poids qui sont appliquées sur les données d'entrée en effectuant une opération de convolution, ce qui permet de détecter des caractéristiques locales dans les données.\n",
        "\n",
        "Les CNN comprennent souvent plusieurs couches de convolution et de pooling qui permettent de capturer des motifs de différentes tailles et de différents niveaux de détail. Les couches de convolution utilisent souvent des fonctions d'activation ReLU (Rectified Linear Unit) pour limiter la sortie de chaque neurone à un nombre positif en \"coupant\" les résultats négatifs à zéro. Les couches de pooling réduisent la dimension des données en prenant le maximum de chaque sous-ensemble de données.\n",
        "\n",
        "Après les couches de convolution et de pooling, les CNN comprennent généralement des couches de neurones pleinement connectées qui prennent en entrée les caractéristiques détectées par les couches précédentes et effectuent la prédiction finale. Les CNN sont souvent utilisés pour la classification d'images, mais peuvent également être utilisés pour d'autres tâches de traitement d'image, telles que la génération d'images, la segmentation d'image et la détection d'objets."
      ],
      "metadata": {
        "id": "eOWddvc2HyKu"
      }
    },
    {
      "cell_type": "markdown",
      "source": [
        "Dans cet exemple, nous utilisons la base de données de la bibliothèque Keras contenant des chiffres écrits à la main."
      ],
      "metadata": {
        "id": "YuLnRnMhmagJ"
      }
    },
    {
      "cell_type": "markdown",
      "source": [
        "### Exemple Illustration : (source medium) \n",
        "\n",
        "![Image](https://miro.medium.com/max/828/1*uAeANQIOQPqWZnnuH-VEyw.webp)\n"
      ],
      "metadata": {
        "id": "kj05mu7JKa9w"
      }
    },
    {
      "cell_type": "code",
      "execution_count": 1,
      "metadata": {
        "id": "A5uE-6vKzpIE"
      },
      "outputs": [],
      "source": [
        "from keras.datasets import mnist"
      ]
    },
    {
      "cell_type": "code",
      "source": [
        "df = mnist.load_data()\n",
        "#charge les donner dentrainnement et de test"
      ],
      "metadata": {
        "id": "DKaPb8w0zzb9",
        "colab": {
          "base_uri": "https://localhost:8080/"
        },
        "outputId": "bd92cf55-ce2b-4cde-dc05-9ee1402dfac8"
      },
      "execution_count": 2,
      "outputs": [
        {
          "output_type": "stream",
          "name": "stdout",
          "text": [
            "Downloading data from https://storage.googleapis.com/tensorflow/tf-keras-datasets/mnist.npz\n",
            "11490434/11490434 [==============================] - 0s 0us/step\n"
          ]
        }
      ]
    },
    {
      "cell_type": "markdown",
      "source": [
        "## affichage du contenue de notre base de données "
      ],
      "metadata": {
        "id": "vIj1H6ivm9xk"
      }
    },
    {
      "cell_type": "code",
      "source": [
        "# creation d'une function generatrice de nombre d'indice aleatoire pour le subploting\n",
        "import random\n",
        "\n",
        "def generate(n : int, lenOfElement : int) -> list:\n",
        "    elementsListe = []\n",
        "    for i in range(n):\n",
        "        elementsListe.append(random.randint(0,lenOfElement))\n",
        "    return elementsListe"
      ],
      "metadata": {
        "id": "gTdKyT0KD_oR"
      },
      "execution_count": 3,
      "outputs": []
    },
    {
      "cell_type": "code",
      "source": [
        "print(generate(12,168))"
      ],
      "metadata": {
        "colab": {
          "base_uri": "https://localhost:8080/"
        },
        "id": "t9bFKICTTHUW",
        "outputId": "826ab14d-4f9e-4c0b-ce4e-f6f051ad2dc8"
      },
      "execution_count": 4,
      "outputs": [
        {
          "output_type": "stream",
          "name": "stdout",
          "text": [
            "[26, 5, 143, 129, 155, 69, 115, 58, 158, 158, 155, 151]\n"
          ]
        }
      ]
    },
    {
      "cell_type": "code",
      "source": [
        "# executé plusieur fois pour que le plot change \n",
        "# ce-ci vous donnes un appercu des données \n",
        "# affichage de quelque pictorane des ecrits manuscrit ...\n",
        "\n",
        "import matplotlib.pyplot as plt\n",
        "\n",
        "# creation d'un axe de multi ploting on decide d'affiché 20 image aleatoire:\n",
        "def plotting(subplotting : int, lenListe : int,grilleAffiche : list ) -> None:\n",
        "    nplots = subplotting\n",
        "    liste = generate(subplotting,lenListe)\n",
        "    fig = plt.figure(figsize=(8,8))\n",
        "    for j in range(nplots):\n",
        "        plt.subplot(grilleAffiche[0],grilleAffiche[1],j+1)\n",
        "        plt.imshow(df[0][0][liste[j]], cmap='binary')\n",
        "        plt.axis('off')\n",
        "    plt.show()\n",
        "\n",
        "if __name__ ==\"__main__\":\n",
        "    try:\n",
        "        plotting(21,60000,[5,8])\n",
        "    except ValueError:\n",
        "        print(\"AJUSTER LA GRILLE\")\n"
      ],
      "metadata": {
        "colab": {
          "base_uri": "https://localhost:8080/",
          "height": 258
        },
        "id": "9XfbF6ZBBGHM",
        "outputId": "bc1c4795-d72a-413c-f350-d8bbf587c7de"
      },
      "execution_count": 5,
      "outputs": [
        {
          "output_type": "display_data",
          "data": {
            "text/plain": [
              "<Figure size 576x576 with 21 Axes>"
            ],
            "image/png": "[encoded data removed]"
          },
          "metadata": {
            "needs_background": "light"
          }
        }
      ]
    },
    {
      "cell_type": "markdown",
      "source": [
        "#**Mise en place du modèle**"
      ],
      "metadata": {
        "id": "cAyTDrGQnF9A"
      }
    },
    {
      "cell_type": "markdown",
      "source": [
        "## **Importation des librairies**"
      ],
      "metadata": {
        "id": "Uaplouu05wSO"
      }
    },
    {
      "cell_type": "markdown",
      "source": [
        "## **CONTRUCTION DU TRAINTSET ET TESTSET**"
      ],
      "metadata": {
        "id": "DlQ0Nlbj56OX"
      }
    },
    {
      "cell_type": "markdown",
      "source": [
        "#### mnist contient 70000 images avec train à 90% et un test à 10% par defaut"
      ],
      "metadata": {
        "id": "8Thx_whgUlMk"
      }
    },
    {
      "cell_type": "code",
      "source": [
        "import numpy as np\n",
        "np.random.seed(1234)\n",
        "(X_train, y_train), (X_test, y_test) = mnist.load_data() # CHARGEMENT DES DONNEES DEPUIS MNIST\n",
        "#elle contien 70000 images de 28px/28px\n",
        "\n",
        "#60000 images pour le train et 10000 pour le test \n",
        "print(X_train.shape, y_train.shape) # taille du train "
      ],
      "metadata": {
        "colab": {
          "base_uri": "https://localhost:8080/"
        },
        "id": "uV1eEZDu6RR2",
        "outputId": "064742fc-ee54-4e42-dc86-8d94889369ac"
      },
      "execution_count": 7,
      "outputs": [
        {
          "output_type": "stream",
          "name": "stdout",
          "text": [
            "(60000, 28, 28) (60000,)\n"
          ]
        }
      ]
    },
    {
      "cell_type": "code",
      "source": [
        "print(X_test.shape, y_test.shape) # taille du test"
      ],
      "metadata": {
        "colab": {
          "base_uri": "https://localhost:8080/"
        },
        "id": "2HvSNkVo6z1-",
        "outputId": "1fd46be1-3238-4a2e-9e52-2c3bc1470a02"
      },
      "execution_count": 12,
      "outputs": [
        {
          "output_type": "stream",
          "name": "stdout",
          "text": [
            "(10000, 28, 28, 1) (10000,)\n"
          ]
        }
      ]
    },
    {
      "cell_type": "markdown",
      "source": [
        "#### Prétraitement de données au format  (n_samples, hauteur, largeur, n_canaux)\n",
        "Canal:\n",
        "- 3 = RGB\n",
        "- 1 = Noir & Blanc\n"
      ],
      "metadata": {
        "id": "spyofaXqVT2l"
      }
    },
    {
      "cell_type": "code",
      "source": [
        "# transposition  \n",
        "X_train = X_train.reshape(X_train.shape[0], 28, 28, 1)\n",
        "X_test = X_test.reshape(X_test.shape[0], 28, 28, 1)"
      ],
      "metadata": {
        "id": "rri5YrKU7gmN"
      },
      "execution_count": 13,
      "outputs": []
    },
    {
      "cell_type": "markdown",
      "source": [
        " la méthode **reshape** de NumPy est utilisée pour modifier la forme des tableaux X_train et X_test. La méthode reshape prend en entrée un tuple indiquant la nouvelle forme souhaitée pour le tableau et retourne un nouveau tableau avec cette forme, sans modifier l'original.\n",
        "\n",
        "Dans le cas de X_train, le tuple (X_train.shape[0], 28, 28, 1) indique que le nouveau tableau aura le même nombre de lignes que l'original (X_train.shape[0]), mais que chaque ligne sera transformée en une matrice de 28x28 pixels avec un seul canal de couleur (1).\n",
        "\n",
        "De cette façon, le tableau X_train est modifié pour avoir la forme (n_samples, 28, 28, 1), où n_samples est le nombre de lignes dans le tableau original.\n",
        "\n",
        "Le même processus est effectué sur le tableau X_test, qui est modifié pour avoir la même forme que X_train.\n",
        "\n",
        "Cette modification de la forme des données est souvent nécessaire lorsque vous utilisez des réseaux de neurones convolutionnels (CNN) pour traiter des images, car les CNN attendent souvent que les données d'entrée soient organisées sous forme de tableaux de dimensions **(n_samples, hauteur, largeur, n_canaux)**."
      ],
      "metadata": {
        "id": "-XVkg9k1IYE8"
      }
    },
    {
      "cell_type": "code",
      "source": [
        "import keras \n",
        "import numpy as np \n",
        "import pandas as pd\n",
        "import tensorflow as tf\n",
        "from keras.datasets import mnist\n",
        "from keras.models import Sequential \n",
        "from keras.layers import Dense, Dropout, Flatten\n",
        "from keras.layers import Conv2D, MaxPool2D"
      ],
      "metadata": {
        "id": "6mA5cmI12aBD"
      },
      "execution_count": 14,
      "outputs": []
    },
    {
      "cell_type": "markdown",
      "source": [
        "- **keras** est une bibliothèque de réseaux de neurones conçue pour être facile à utiliser et à étendre. Elle est basée sur TensorFlow, une bibliothèque de calcul numérique en deux dimensions pour Python.\n",
        "\n",
        "- **numpy** est une bibliothèque de calcul scientifique qui fournit des fonctionnalités avancées pour travailler avec des tableaux et des matrices de nombres.\n",
        "\n",
        "- **pandas** est une bibliothèque de manipulation de données qui permet de manipuler et d'analyser facilement des données structurées sous forme de tableaux.\n",
        "\n",
        "- **tensorflow** est une bibliothèque de calcul en deux dimensions pour Python qui permet de développer et de déployer des modèles de deep learning de manière efficace.\n",
        "\n",
        "- **mnist** est un jeu de données de chiffres manuscrits qui est souvent utilisé pour tester et évaluer les modèles de reconnaissance de caractères.\n",
        "\n",
        "- **Sequential** est une classe de Keras qui permet de créer un modèle de réseau de neurones séquentiel, c'est-à-dire un modèle formé de couches de neurones qui s'exécutent les unes à la suite des autres.\n",
        "\n",
        "- **Dense** est une couche de neurones pleinement connectée de Keras qui permet de créer une couche de réseau de neurones dans lequel tous les neurones sont connectés aux neurones de la couche précédente et suivante.\n",
        "\n",
        "- **Dropout** est une couche de Keras qui permet de régulariser un modèle en \"éteignant\" aléatoirement certains neurones pendant l'entraînement. Cela peut aider à prévenir le surapprentissage et à améliorer la généralisation du modèle.\n",
        "\n",
        "- **Flatten** est une couche de Keras qui permet de transformer un tenseur de données de haute dimension en un tenseur à une dimension, ce qui est nécessaire pour utiliser certaines couches de réseaux de neurones qui ne peuvent travailler qu'avec des données à une dimension.\n",
        "\n",
        "- **Conv2D** est une couche de convolution 2D de Keras qui permet de créer une couche de réseau de neurones de convolution qui peut détecter des motifs dans des données d'image ou de signal.\n",
        "\n",
        "- **MaxPool2D** est une couche de max pooling 2D de Keras qui permet de réduire la dimension des données en prenant le maximum de chaque sous-ensemble de données. Cela peut être utile pour réduire la complexité du modèle et améliorer les performances."
      ],
      "metadata": {
        "id": "sBaNVF_dBnKi"
      }
    },
    {
      "cell_type": "code",
      "source": [
        "# taille entrer du reseau\n",
        "input_shape = (28, 28, 1)"
      ],
      "metadata": {
        "id": "WAhAUPyk8Ztx"
      },
      "execution_count": 15,
      "outputs": []
    },
    {
      "cell_type": "code",
      "source": [
        "# [0,...,9] = 10 classe\n",
        "num_classes= 10"
      ],
      "metadata": {
        "id": "zG9-j7B-8vxk"
      },
      "execution_count": 16,
      "outputs": []
    },
    {
      "cell_type": "code",
      "source": [
        "# passe des matrice en un format categorique \n",
        "y_train = tf.keras.utils.to_categorical(y_train, num_classes)\n",
        "y_test = tf.keras.utils.to_categorical(y_test, num_classes)"
      ],
      "metadata": {
        "id": "Dr0ZnSXf9LLg"
      },
      "execution_count": 17,
      "outputs": []
    },
    {
      "cell_type": "markdown",
      "source": [
        "**tf.keras.utils.to_categorical()**\n",
        "permet de convertir des étiquettes de classe en vecteurs de catégories.\n",
        "\n",
        "Elle prend en entrée une liste ou un tableau d'étiquettes de classe sous forme de nombres entiers (par exemple [0, 1, 2, 3]) et renvoie un tableau de vecteurs de catégories correspondants (par exemple [[1, 0, 0, 0], [0, 1, 0, 0], [0, 0, 1, 0], [0, 0, 0, 1]])."
      ],
      "metadata": {
        "id": "-x1LAW0aC5g6"
      }
    },
    {
      "cell_type": "code",
      "source": [
        "# retypage \n",
        "X_train = X_train.astype('float32')\n",
        "X_test = X_test.astype('float32')\n",
        "\n",
        "X_train /= 255\n",
        "X_test /= 255"
      ],
      "metadata": {
        "id": "u1Kwa0Md_OTa"
      },
      "execution_count": 18,
      "outputs": []
    },
    {
      "cell_type": "code",
      "source": [
        "\n",
        "model = Sequential()\n",
        "# extracteur\n",
        "model.add(Conv2D(filters=32, kernel_size=3, activation=\"relu\", padding='same',input_shape=input_shape))\n",
        "model.add(MaxPool2D())\n",
        "\n",
        "model.add(Conv2D(filters=64, kernel_size=3, activation=\"relu\", padding='same'))\n",
        "model.add(MaxPool2D())\n",
        "\n",
        "model.add(Conv2D(filters=128, kernel_size=3, activation=\"relu\", padding='same'))\n",
        "model.add(MaxPool2D())\n",
        "model.add(Flatten())\n",
        "\n",
        "# Reseau de neurones\n",
        "model.add(Dense(units=256, activation=\"relu\"))\n",
        "model.add(Dropout(0.3))\n",
        "model.add(Dense(units=num_classes, activation=\"softmax\"))"
      ],
      "metadata": {
        "id": "77RD1_q8Arnu"
      },
      "execution_count": 19,
      "outputs": []
    },
    {
      "cell_type": "code",
      "source": [
        "model.summary()"
      ],
      "metadata": {
        "colab": {
          "base_uri": "https://localhost:8080/"
        },
        "id": "FqFg4n3jIxcQ",
        "outputId": "f7b45dd8-bb1b-4535-8373-32a8a0853055"
      },
      "execution_count": 20,
      "outputs": [
        {
          "output_type": "stream",
          "name": "stdout",
          "text": [
            "Model: \"sequential\"\n",
            "_________________________________________________________________\n",
            " Layer (type)                Output Shape              Param #   \n",
            "=================================================================\n",
            " conv2d (Conv2D)             (None, 28, 28, 32)        320       \n",
            "                                                                 \n",
            " max_pooling2d (MaxPooling2D  (None, 14, 14, 32)       0         \n",
            " )                                                               \n",
            "                                                                 \n",
            " conv2d_1 (Conv2D)           (None, 14, 14, 64)        18496     \n",
            "                                                                 \n",
            " max_pooling2d_1 (MaxPooling  (None, 7, 7, 64)         0         \n",
            " 2D)                                                             \n",
            "                                                                 \n",
            " conv2d_2 (Conv2D)           (None, 7, 7, 128)         73856     \n",
            "                                                                 \n",
            " max_pooling2d_2 (MaxPooling  (None, 3, 3, 128)        0         \n",
            " 2D)                                                             \n",
            "                                                                 \n",
            " flatten (Flatten)           (None, 1152)              0         \n",
            "                                                                 \n",
            " dense (Dense)               (None, 256)               295168    \n",
            "                                                                 \n",
            " dropout (Dropout)           (None, 256)               0         \n",
            "                                                                 \n",
            " dense_1 (Dense)             (None, 10)                2570      \n",
            "                                                                 \n",
            "=================================================================\n",
            "Total params: 390,410\n",
            "Trainable params: 390,410\n",
            "Non-trainable params: 0\n",
            "_________________________________________________________________\n"
          ]
        }
      ]
    },
    {
      "cell_type": "markdown",
      "source": [
        "en bref :\n",
        "Ce code en Python définit un modèle de réseau de neurones utilisant le framework de deep learning **Keras**. Le modèle est de type **\"séquentiel\"**, c'est-à-dire qu'il est formé de couches de neurones qui s'exécutent les unes à la suite des autres.\n",
        "\n",
        "Le modèle commence par une couche de convolution 2D (Conv2D) avec 32 filtres, une taille de noyau de 3 et une fonction d'activation ReLU (Rectified Linear Unit). La couche de convolution permet de détecter des motifs dans les données d'entrée (ici des images). La fonction d'activation **ReLU** permet de limiter la sortie de chaque neurone à un nombre positif en \"coupant\" les résultats négatifs à zéro. La couche suivante est une couche de max pooling 2D (MaxPool2D) qui réduit la dimension des données en prenant le maximum de chaque sous-ensemble de données.\n",
        "\n",
        "Le modèle comprend également deux autres couches de convolution 2D et de max pooling 2D similaires, ainsi qu'une couche de aplatissement (Flatten) qui transforme les données en un tenseur à une dimension. Le modèle comprend également deux couches de neurones pleinement connectées (Dense) avec 256 et 10 neurones respectivement, ainsi qu'une couche de dropout (Dropout) qui \"éteint\" aléatoirement certains neurones pendant l'entraînement afin de régulariser le modèle et d'améliorer ses performances. La dernière couche est une couche de sortie avec 10 neurones et une fonction d'activation softmax qui permet de fournir des prédictions sous forme de vecteurs de probabilités pour chaque classe de sortie possible."
      ],
      "metadata": {
        "id": "vg1Vlv2DEOHx"
      }
    },
    {
      "cell_type": "code",
      "source": [
        "# parametrage du modele\n",
        "model.compile(\n",
        "    loss=keras.losses.categorical_crossentropy,\n",
        "    optimizer= tf.keras.optimizers.Adam(),\n",
        "    metrics=['accuracy'])"
      ],
      "metadata": {
        "id": "Yi1uzud-Geht"
      },
      "execution_count": 21,
      "outputs": []
    },
    {
      "cell_type": "markdown",
      "source": [
        "La méthode **compile** de l'objet **model** permet de configurer le modèle de réseau de neurones avant de le lancer pour l'entraînement. Cette méthode prend en entrée plusieurs arguments qui permettent de spécifier la fonction de perte à utiliser **(loss)**, **l'optimiseur** à utiliser et les **métriques** à suivre pendant l'entraînement et l'évaluation du modèle.\n",
        "Dans notre cas :\n",
        "\n",
        "Dans cet exemple, la fonction de perte **categorical_crossentropy** est utilisée pour mesurer l'erreur du modèle lors de la prédiction des classes de sortie (ce qui est souvent le cas lorsque vous travaillez avec des données de classification multi-classe). \n",
        "\n",
        "L'optimiseur **adam** est utilisé pour mettre à jour les poids du modèle pendant l'entraînement. \n",
        "\n",
        "Les métriques de **accuracy** sont utilisées pour suivre la précision du modèle pendant l'entraînement et l'évaluation.\n"
      ],
      "metadata": {
        "id": "PTagglfmE4Vv"
      }
    },
    {
      "cell_type": "code",
      "source": [
        "# execution \n",
        "history = model.fit(\n",
        "    X_train, y_train,\n",
        "    validation_data=(X_test, y_test),\n",
        "    batch_size=128,\n",
        "    epochs=20,\n",
        "    verbose=1,\n",
        ") "
      ],
      "metadata": {
        "id": "vJpplhZLICPx",
        "colab": {
          "base_uri": "https://localhost:8080/",
          "height": 799
        },
        "outputId": "24689feb-9505-4b0a-9b6a-088b063b886b"
      },
      "execution_count": 22,
      "outputs": [
        {
          "output_type": "stream",
          "name": "stdout",
          "text": [
            "Epoch 1/20\n",
            "469/469 [==============================] - 107s 226ms/step - loss: 0.2266 - accuracy: 0.9293 - val_loss: 0.0468 - val_accuracy: 0.9836\n",
            "Epoch 2/20\n",
            "469/469 [==============================] - 112s 238ms/step - loss: 0.0568 - accuracy: 0.9830 - val_loss: 0.0319 - val_accuracy: 0.9888\n",
            "Epoch 3/20\n",
            "469/469 [==============================] - 108s 231ms/step - loss: 0.0375 - accuracy: 0.9880 - val_loss: 0.0280 - val_accuracy: 0.9909\n",
            "Epoch 4/20\n",
            "469/469 [==============================] - 111s 236ms/step - loss: 0.0305 - accuracy: 0.9906 - val_loss: 0.0264 - val_accuracy: 0.9919\n",
            "Epoch 5/20\n",
            "469/469 [==============================] - 110s 234ms/step - loss: 0.0245 - accuracy: 0.9923 - val_loss: 0.0268 - val_accuracy: 0.9918\n",
            "Epoch 6/20\n",
            "469/469 [==============================] - 112s 238ms/step - loss: 0.0199 - accuracy: 0.9938 - val_loss: 0.0236 - val_accuracy: 0.9929\n",
            "Epoch 7/20\n",
            "469/469 [==============================] - 110s 234ms/step - loss: 0.0161 - accuracy: 0.9948 - val_loss: 0.0311 - val_accuracy: 0.9922\n",
            "Epoch 8/20\n",
            "469/469 [==============================] - 109s 232ms/step - loss: 0.0156 - accuracy: 0.9949 - val_loss: 0.0235 - val_accuracy: 0.9926\n",
            "Epoch 9/20\n",
            "469/469 [==============================] - 108s 231ms/step - loss: 0.0123 - accuracy: 0.9958 - val_loss: 0.0237 - val_accuracy: 0.9926\n",
            "Epoch 10/20\n",
            "469/469 [==============================] - 109s 232ms/step - loss: 0.0127 - accuracy: 0.9960 - val_loss: 0.0254 - val_accuracy: 0.9921\n",
            "Epoch 11/20\n",
            " 36/469 [=>............................] - ETA: 1:36 - loss: 0.0071 - accuracy: 0.9976"
          ]
        },
        {
          "output_type": "error",
          "ename": "KeyboardInterrupt",
          "evalue": "ignored",
          "traceback": [
            "\u001b[0;31m---------------------------------------------------------------------------\u001b[0m",
            "\u001b[0;31mKeyboardInterrupt\u001b[0m                         Traceback (most recent call last)",
            "\u001b[0;32m<ipython-input-22-bca1004cf3f4>\u001b[0m in \u001b[0;36m<module>\u001b[0;34m\u001b[0m\n\u001b[1;32m      1\u001b[0m \u001b[0;31m# execution\u001b[0m\u001b[0;34m\u001b[0m\u001b[0;34m\u001b[0m\u001b[0;34m\u001b[0m\u001b[0m\n\u001b[0;32m----> 2\u001b[0;31m history = model.fit(\n\u001b[0m\u001b[1;32m      3\u001b[0m     \u001b[0mX_train\u001b[0m\u001b[0;34m,\u001b[0m \u001b[0my_train\u001b[0m\u001b[0;34m,\u001b[0m\u001b[0;34m\u001b[0m\u001b[0;34m\u001b[0m\u001b[0m\n\u001b[1;32m      4\u001b[0m     \u001b[0mvalidation_data\u001b[0m\u001b[0;34m=\u001b[0m\u001b[0;34m(\u001b[0m\u001b[0mX_test\u001b[0m\u001b[0;34m,\u001b[0m \u001b[0my_test\u001b[0m\u001b[0;34m)\u001b[0m\u001b[0;34m,\u001b[0m\u001b[0;34m\u001b[0m\u001b[0;34m\u001b[0m\u001b[0m\n\u001b[1;32m      5\u001b[0m     \u001b[0mbatch_size\u001b[0m\u001b[0;34m=\u001b[0m\u001b[0;36m128\u001b[0m\u001b[0;34m,\u001b[0m\u001b[0;34m\u001b[0m\u001b[0;34m\u001b[0m\u001b[0m\n",
            "\u001b[0;32m/usr/local/lib/python3.8/dist-packages/keras/utils/traceback_utils.py\u001b[0m in \u001b[0;36merror_handler\u001b[0;34m(*args, **kwargs)\u001b[0m\n\u001b[1;32m     62\u001b[0m     \u001b[0mfiltered_tb\u001b[0m \u001b[0;34m=\u001b[0m \u001b[0;32mNone\u001b[0m\u001b[0;34m\u001b[0m\u001b[0;34m\u001b[0m\u001b[0m\n\u001b[1;32m     63\u001b[0m     \u001b[0;32mtry\u001b[0m\u001b[0;34m:\u001b[0m\u001b[0;34m\u001b[0m\u001b[0;34m\u001b[0m\u001b[0m\n\u001b[0;32m---> 64\u001b[0;31m       \u001b[0;32mreturn\u001b[0m \u001b[0mfn\u001b[0m\u001b[0;34m(\u001b[0m\u001b[0;34m*\u001b[0m\u001b[0margs\u001b[0m\u001b[0;34m,\u001b[0m \u001b[0;34m**\u001b[0m\u001b[0mkwargs\u001b[0m\u001b[0;34m)\u001b[0m\u001b[0;34m\u001b[0m\u001b[0;34m\u001b[0m\u001b[0m\n\u001b[0m\u001b[1;32m     65\u001b[0m     \u001b[0;32mexcept\u001b[0m \u001b[0mException\u001b[0m \u001b[0;32mas\u001b[0m \u001b[0me\u001b[0m\u001b[0;34m:\u001b[0m  \u001b[0;31m# pylint: disable=broad-except\u001b[0m\u001b[0;34m\u001b[0m\u001b[0;34m\u001b[0m\u001b[0m\n\u001b[1;32m     66\u001b[0m       \u001b[0mfiltered_tb\u001b[0m \u001b[0;34m=\u001b[0m \u001b[0m_process_traceback_frames\u001b[0m\u001b[0;34m(\u001b[0m\u001b[0me\u001b[0m\u001b[0;34m.\u001b[0m\u001b[0m__traceback__\u001b[0m\u001b[0;34m)\u001b[0m\u001b[0;34m\u001b[0m\u001b[0;34m\u001b[0m\u001b[0m\n",
            "\u001b[0;32m/usr/local/lib/python3.8/dist-packages/keras/engine/training.py\u001b[0m in \u001b[0;36mfit\u001b[0;34m(self, x, y, batch_size, epochs, verbose, callbacks, validation_split, validation_data, shuffle, class_weight, sample_weight, initial_epoch, steps_per_epoch, validation_steps, validation_batch_size, validation_freq, max_queue_size, workers, use_multiprocessing)\u001b[0m\n\u001b[1;32m   1407\u001b[0m                 _r=1):\n\u001b[1;32m   1408\u001b[0m               \u001b[0mcallbacks\u001b[0m\u001b[0;34m.\u001b[0m\u001b[0mon_train_batch_begin\u001b[0m\u001b[0;34m(\u001b[0m\u001b[0mstep\u001b[0m\u001b[0;34m)\u001b[0m\u001b[0;34m\u001b[0m\u001b[0;34m\u001b[0m\u001b[0m\n\u001b[0;32m-> 1409\u001b[0;31m               \u001b[0mtmp_logs\u001b[0m \u001b[0;34m=\u001b[0m \u001b[0mself\u001b[0m\u001b[0;34m.\u001b[0m\u001b[0mtrain_function\u001b[0m\u001b[0;34m(\u001b[0m\u001b[0miterator\u001b[0m\u001b[0;34m)\u001b[0m\u001b[0;34m\u001b[0m\u001b[0;34m\u001b[0m\u001b[0m\n\u001b[0m\u001b[1;32m   1410\u001b[0m               \u001b[0;32mif\u001b[0m \u001b[0mdata_handler\u001b[0m\u001b[0;34m.\u001b[0m\u001b[0mshould_sync\u001b[0m\u001b[0;34m:\u001b[0m\u001b[0;34m\u001b[0m\u001b[0;34m\u001b[0m\u001b[0m\n\u001b[1;32m   1411\u001b[0m                 \u001b[0mcontext\u001b[0m\u001b[0;34m.\u001b[0m\u001b[0masync_wait\u001b[0m\u001b[0;34m(\u001b[0m\u001b[0;34m)\u001b[0m\u001b[0;34m\u001b[0m\u001b[0;34m\u001b[0m\u001b[0m\n",
            "\u001b[0;32m/usr/local/lib/python3.8/dist-packages/tensorflow/python/util/traceback_utils.py\u001b[0m in \u001b[0;36merror_handler\u001b[0;34m(*args, **kwargs)\u001b[0m\n\u001b[1;32m    148\u001b[0m     \u001b[0mfiltered_tb\u001b[0m \u001b[0;34m=\u001b[0m \u001b[0;32mNone\u001b[0m\u001b[0;34m\u001b[0m\u001b[0;34m\u001b[0m\u001b[0m\n\u001b[1;32m    149\u001b[0m     \u001b[0;32mtry\u001b[0m\u001b[0;34m:\u001b[0m\u001b[0;34m\u001b[0m\u001b[0;34m\u001b[0m\u001b[0m\n\u001b[0;32m--> 150\u001b[0;31m       \u001b[0;32mreturn\u001b[0m \u001b[0mfn\u001b[0m\u001b[0;34m(\u001b[0m\u001b[0;34m*\u001b[0m\u001b[0margs\u001b[0m\u001b[0;34m,\u001b[0m \u001b[0;34m**\u001b[0m\u001b[0mkwargs\u001b[0m\u001b[0;34m)\u001b[0m\u001b[0;34m\u001b[0m\u001b[0;34m\u001b[0m\u001b[0m\n\u001b[0m\u001b[1;32m    151\u001b[0m     \u001b[0;32mexcept\u001b[0m \u001b[0mException\u001b[0m \u001b[0;32mas\u001b[0m \u001b[0me\u001b[0m\u001b[0;34m:\u001b[0m\u001b[0;34m\u001b[0m\u001b[0;34m\u001b[0m\u001b[0m\n\u001b[1;32m    152\u001b[0m       \u001b[0mfiltered_tb\u001b[0m \u001b[0;34m=\u001b[0m \u001b[0m_process_traceback_frames\u001b[0m\u001b[0;34m(\u001b[0m\u001b[0me\u001b[0m\u001b[0;34m.\u001b[0m\u001b[0m__traceback__\u001b[0m\u001b[0;34m)\u001b[0m\u001b[0;34m\u001b[0m\u001b[0;34m\u001b[0m\u001b[0m\n",
            "\u001b[0;32m/usr/local/lib/python3.8/dist-packages/tensorflow/python/eager/def_function.py\u001b[0m in \u001b[0;36m__call__\u001b[0;34m(self, *args, **kwds)\u001b[0m\n\u001b[1;32m    913\u001b[0m \u001b[0;34m\u001b[0m\u001b[0m\n\u001b[1;32m    914\u001b[0m       \u001b[0;32mwith\u001b[0m \u001b[0mOptionalXlaContext\u001b[0m\u001b[0;34m(\u001b[0m\u001b[0mself\u001b[0m\u001b[0;34m.\u001b[0m\u001b[0m_jit_compile\u001b[0m\u001b[0;34m)\u001b[0m\u001b[0;34m:\u001b[0m\u001b[0;34m\u001b[0m\u001b[0;34m\u001b[0m\u001b[0m\n\u001b[0;32m--> 915\u001b[0;31m         \u001b[0mresult\u001b[0m \u001b[0;34m=\u001b[0m \u001b[0mself\u001b[0m\u001b[0;34m.\u001b[0m\u001b[0m_call\u001b[0m\u001b[0;34m(\u001b[0m\u001b[0;34m*\u001b[0m\u001b[0margs\u001b[0m\u001b[0;34m,\u001b[0m \u001b[0;34m**\u001b[0m\u001b[0mkwds\u001b[0m\u001b[0;34m)\u001b[0m\u001b[0;34m\u001b[0m\u001b[0;34m\u001b[0m\u001b[0m\n\u001b[0m\u001b[1;32m    916\u001b[0m \u001b[0;34m\u001b[0m\u001b[0m\n\u001b[1;32m    917\u001b[0m       \u001b[0mnew_tracing_count\u001b[0m \u001b[0;34m=\u001b[0m \u001b[0mself\u001b[0m\u001b[0;34m.\u001b[0m\u001b[0mexperimental_get_tracing_count\u001b[0m\u001b[0;34m(\u001b[0m\u001b[0;34m)\u001b[0m\u001b[0;34m\u001b[0m\u001b[0;34m\u001b[0m\u001b[0m\n",
            "\u001b[0;32m/usr/local/lib/python3.8/dist-packages/tensorflow/python/eager/def_function.py\u001b[0m in \u001b[0;36m_call\u001b[0;34m(self, *args, **kwds)\u001b[0m\n\u001b[1;32m    945\u001b[0m       \u001b[0;31m# In this case we have created variables on the first call, so we run the\u001b[0m\u001b[0;34m\u001b[0m\u001b[0;34m\u001b[0m\u001b[0;34m\u001b[0m\u001b[0m\n\u001b[1;32m    946\u001b[0m       \u001b[0;31m# defunned version which is guaranteed to never create variables.\u001b[0m\u001b[0;34m\u001b[0m\u001b[0;34m\u001b[0m\u001b[0;34m\u001b[0m\u001b[0m\n\u001b[0;32m--> 947\u001b[0;31m       \u001b[0;32mreturn\u001b[0m \u001b[0mself\u001b[0m\u001b[0;34m.\u001b[0m\u001b[0m_stateless_fn\u001b[0m\u001b[0;34m(\u001b[0m\u001b[0;34m*\u001b[0m\u001b[0margs\u001b[0m\u001b[0;34m,\u001b[0m \u001b[0;34m**\u001b[0m\u001b[0mkwds\u001b[0m\u001b[0;34m)\u001b[0m  \u001b[0;31m# pylint: disable=not-callable\u001b[0m\u001b[0;34m\u001b[0m\u001b[0;34m\u001b[0m\u001b[0m\n\u001b[0m\u001b[1;32m    948\u001b[0m     \u001b[0;32melif\u001b[0m \u001b[0mself\u001b[0m\u001b[0;34m.\u001b[0m\u001b[0m_stateful_fn\u001b[0m \u001b[0;32mis\u001b[0m \u001b[0;32mnot\u001b[0m \u001b[0;32mNone\u001b[0m\u001b[0;34m:\u001b[0m\u001b[0;34m\u001b[0m\u001b[0;34m\u001b[0m\u001b[0m\n\u001b[1;32m    949\u001b[0m       \u001b[0;31m# Release the lock early so that multiple threads can perform the call\u001b[0m\u001b[0;34m\u001b[0m\u001b[0;34m\u001b[0m\u001b[0;34m\u001b[0m\u001b[0m\n",
            "\u001b[0;32m/usr/local/lib/python3.8/dist-packages/tensorflow/python/eager/function.py\u001b[0m in \u001b[0;36m__call__\u001b[0;34m(self, *args, **kwargs)\u001b[0m\n\u001b[1;32m   2451\u001b[0m       (graph_function,\n\u001b[1;32m   2452\u001b[0m        filtered_flat_args) = self._maybe_define_function(args, kwargs)\n\u001b[0;32m-> 2453\u001b[0;31m     return graph_function._call_flat(\n\u001b[0m\u001b[1;32m   2454\u001b[0m         filtered_flat_args, captured_inputs=graph_function.captured_inputs)  # pylint: disable=protected-access\n\u001b[1;32m   2455\u001b[0m \u001b[0;34m\u001b[0m\u001b[0m\n",
            "\u001b[0;32m/usr/local/lib/python3.8/dist-packages/tensorflow/python/eager/function.py\u001b[0m in \u001b[0;36m_call_flat\u001b[0;34m(self, args, captured_inputs, cancellation_manager)\u001b[0m\n\u001b[1;32m   1858\u001b[0m         and executing_eagerly):\n\u001b[1;32m   1859\u001b[0m       \u001b[0;31m# No tape is watching; skip to running the function.\u001b[0m\u001b[0;34m\u001b[0m\u001b[0;34m\u001b[0m\u001b[0;34m\u001b[0m\u001b[0m\n\u001b[0;32m-> 1860\u001b[0;31m       return self._build_call_outputs(self._inference_function.call(\n\u001b[0m\u001b[1;32m   1861\u001b[0m           ctx, args, cancellation_manager=cancellation_manager))\n\u001b[1;32m   1862\u001b[0m     forward_backward = self._select_forward_and_backward_functions(\n",
            "\u001b[0;32m/usr/local/lib/python3.8/dist-packages/tensorflow/python/eager/function.py\u001b[0m in \u001b[0;36mcall\u001b[0;34m(self, ctx, args, cancellation_manager)\u001b[0m\n\u001b[1;32m    495\u001b[0m       \u001b[0;32mwith\u001b[0m \u001b[0m_InterpolateFunctionError\u001b[0m\u001b[0;34m(\u001b[0m\u001b[0mself\u001b[0m\u001b[0;34m)\u001b[0m\u001b[0;34m:\u001b[0m\u001b[0;34m\u001b[0m\u001b[0;34m\u001b[0m\u001b[0m\n\u001b[1;32m    496\u001b[0m         \u001b[0;32mif\u001b[0m \u001b[0mcancellation_manager\u001b[0m \u001b[0;32mis\u001b[0m \u001b[0;32mNone\u001b[0m\u001b[0;34m:\u001b[0m\u001b[0;34m\u001b[0m\u001b[0;34m\u001b[0m\u001b[0m\n\u001b[0;32m--> 497\u001b[0;31m           outputs = execute.execute(\n\u001b[0m\u001b[1;32m    498\u001b[0m               \u001b[0mstr\u001b[0m\u001b[0;34m(\u001b[0m\u001b[0mself\u001b[0m\u001b[0;34m.\u001b[0m\u001b[0msignature\u001b[0m\u001b[0;34m.\u001b[0m\u001b[0mname\u001b[0m\u001b[0;34m)\u001b[0m\u001b[0;34m,\u001b[0m\u001b[0;34m\u001b[0m\u001b[0;34m\u001b[0m\u001b[0m\n\u001b[1;32m    499\u001b[0m               \u001b[0mnum_outputs\u001b[0m\u001b[0;34m=\u001b[0m\u001b[0mself\u001b[0m\u001b[0;34m.\u001b[0m\u001b[0m_num_outputs\u001b[0m\u001b[0;34m,\u001b[0m\u001b[0;34m\u001b[0m\u001b[0;34m\u001b[0m\u001b[0m\n",
            "\u001b[0;32m/usr/local/lib/python3.8/dist-packages/tensorflow/python/eager/execute.py\u001b[0m in \u001b[0;36mquick_execute\u001b[0;34m(op_name, num_outputs, inputs, attrs, ctx, name)\u001b[0m\n\u001b[1;32m     52\u001b[0m   \u001b[0;32mtry\u001b[0m\u001b[0;34m:\u001b[0m\u001b[0;34m\u001b[0m\u001b[0;34m\u001b[0m\u001b[0m\n\u001b[1;32m     53\u001b[0m     \u001b[0mctx\u001b[0m\u001b[0;34m.\u001b[0m\u001b[0mensure_initialized\u001b[0m\u001b[0;34m(\u001b[0m\u001b[0;34m)\u001b[0m\u001b[0;34m\u001b[0m\u001b[0;34m\u001b[0m\u001b[0m\n\u001b[0;32m---> 54\u001b[0;31m     tensors = pywrap_tfe.TFE_Py_Execute(ctx._handle, device_name, op_name,\n\u001b[0m\u001b[1;32m     55\u001b[0m                                         inputs, attrs, num_outputs)\n\u001b[1;32m     56\u001b[0m   \u001b[0;32mexcept\u001b[0m \u001b[0mcore\u001b[0m\u001b[0;34m.\u001b[0m\u001b[0m_NotOkStatusException\u001b[0m \u001b[0;32mas\u001b[0m \u001b[0me\u001b[0m\u001b[0;34m:\u001b[0m\u001b[0;34m\u001b[0m\u001b[0;34m\u001b[0m\u001b[0m\n",
            "\u001b[0;31mKeyboardInterrupt\u001b[0m: "
          ]
        }
      ]
    },
    {
      "cell_type": "markdown",
      "source": [
        "la méthode **fit** de l'objet **model** execute l'apprentissage.La méthode evaluate pour évaluer le modèle sur des données de test et la méthode predict pour faire des prédictions sur de nouvelles données."
      ],
      "metadata": {
        "id": "XxFO09yeFftR"
      }
    },
    {
      "cell_type": "markdown",
      "source": [
        "# Performance du models"
      ],
      "metadata": {
        "id": "8VVPv3vzlqd-"
      }
    },
    {
      "cell_type": "code",
      "source": [
        "# affichage des score \n",
        "score = model.evaluate(X_test, y_test, verbose=0)\n",
        "print('Test loss:', score[0])\n",
        "print('Test accuracy:', score[1])\n",
        "#accuracy performance du model ,lost perte "
      ],
      "metadata": {
        "id": "gmtp9nVoSLb-",
        "colab": {
          "base_uri": "https://localhost:8080/"
        },
        "outputId": "873e81cf-e0a9-4b53-d2c4-e44e90aae4ef"
      },
      "execution_count": null,
      "outputs": [
        {
          "output_type": "stream",
          "name": "stdout",
          "text": [
            "Test loss: 0.03728451952338219\n",
            "Test accuracy: 0.9912999868392944\n"
          ]
        }
      ]
    },
    {
      "cell_type": "code",
      "source": [
        "history_frame = pd.DataFrame(history.history)\n",
        "history_frame.loc[:, ['loss', 'val_loss']].plot()\n",
        "history_frame.loc[:, ['accuracy', 'val_accuracy']].plot()"
      ],
      "metadata": {
        "id": "HEMncrN6TuIj",
        "colab": {
          "base_uri": "https://localhost:8080/",
          "height": 531
        },
        "outputId": "6adf251c-b3a0-458a-8c0e-7fafe3c1549f"
      },
      "execution_count": null,
      "outputs": [
        {
          "output_type": "execute_result",
          "data": {
            "text/plain": [
              "<matplotlib.axes._subplots.AxesSubplot at 0x7f538b411370>"
            ]
          },
          "metadata": {},
          "execution_count": 17
        },
        {
          "output_type": "display_data",
          "data": {
            "text/plain": [
              "<Figure size 432x288 with 1 Axes>"
            ],
            "image/png": "[encoded data removed]"
          },
          "metadata": {
            "needs_background": "light"
          }
        },
        {
          "output_type": "display_data",
          "data": {
            "text/plain": [
              "<Figure size 432x288 with 1 Axes>"
            ],
            "image/png": "[encoded data removed]"
          },
          "metadata": {
            "needs_background": "light"
          }
        }
      ]
    },
    {
      "cell_type": "markdown",
      "source": [
        "l'observation des grahes montre l'absence d'overfitting 😁"
      ],
      "metadata": {
        "id": "BVUaWb4BnqEX"
      }
    },
    {
      "cell_type": "markdown",
      "source": [
        "# Fonction pour le Test"
      ],
      "metadata": {
        "id": "rKyQaJCml1Hm"
      }
    },
    {
      "cell_type": "code",
      "source": [
        "# definir un intervale de valeur a selectioné dans notre Testset\n",
        "def intervaleTest(ends : int) -> tuple:\n",
        "    chiffre = np.squeeze(X_test[:ends])\n",
        "    prediction = model.predict(X_test[:ends])\n",
        "    yield (prediction,chiffre)"
      ],
      "metadata": {
        "id": "bgqUBRmou1Ic"
      },
      "execution_count": null,
      "outputs": []
    },
    {
      "cell_type": "code",
      "source": [
        "def Test(nombre : int = 1) -> None:\n",
        "    for el in intervaleTest(nombre):\n",
        "        for i in range(len(el[0])):\n",
        "            valeur_predite = np.argmax(el[0][i])\n",
        "            vraie_valeur = np.argmax(y_test[i])\n",
        "            print(f'valeur predite : {valeur_predite}')\n",
        "            print(f'vraie valeur : {vraie_valeur}')\n",
        "            plt.imshow(el[1][i],cmap='binary')\n",
        "            plt.show()\n",
        " "
      ],
      "metadata": {
        "id": "3ifra_Bgh8yz"
      },
      "execution_count": null,
      "outputs": []
    },
    {
      "cell_type": "markdown",
      "source": [
        "# **Test du modèle (prediction)** "
      ],
      "metadata": {
        "id": "bNWbRdfDlYuH"
      }
    },
    {
      "cell_type": "code",
      "source": [
        "# on teste avec les 12 premières valeurs de nos données de test vous pouvez l'étendre\n",
        "Test(12)"
      ],
      "metadata": {
        "colab": {
          "base_uri": "https://localhost:8080/",
          "height": 1000
        },
        "id": "p2ugxbw5tBjr",
        "outputId": "04a089ac-4550-4c09-a303-eeb5f9926501"
      },
      "execution_count": null,
      "outputs": [
        {
          "output_type": "stream",
          "name": "stdout",
          "text": [
            "1/1 [==============================] - 0s 106ms/step\n",
            "valeur predite : 7\n",
            "vraie valeur : 7\n"
          ]
        },
        {
          "output_type": "display_data",
          "data": {
            "text/plain": [
              "<Figure size 432x288 with 1 Axes>"
            ],
            "image/png": "[encoded data removed]"
          },
          "metadata": {
            "needs_background": "light"
          }
        },
        {
          "output_type": "stream",
          "name": "stdout",
          "text": [
            "valeur predite : 2\n",
            "vraie valeur : 2\n"
          ]
        },
        {
          "output_type": "display_data",
          "data": {
            "text/plain": [
              "<Figure size 432x288 with 1 Axes>"
            ],
            "image/png": "[encoded data removed]"
          },
          "metadata": {
            "needs_background": "light"
          }
        },
        {
          "output_type": "stream",
          "name": "stdout",
          "text": [
            "valeur predite : 1\n",
            "vraie valeur : 1\n"
          ]
        },
        {
          "output_type": "display_data",
          "data": {
            "text/plain": [
              "<Figure size 432x288 with 1 Axes>"
            ],
            "image/png": "[encoded data removed]"
          },
          "metadata": {
            "needs_background": "light"
          }
        },
        {
          "output_type": "stream",
          "name": "stdout",
          "text": [
            "valeur predite : 0\n",
            "vraie valeur : 0\n"
          ]
        },
        {
          "output_type": "display_data",
          "data": {
            "text/plain": [
              "<Figure size 432x288 with 1 Axes>"
            ],
            "image/png": "[encoded data removed]"
          },
          "metadata": {
            "needs_background": "light"
          }
        },
        {
          "output_type": "stream",
          "name": "stdout",
          "text": [
            "valeur predite : 4\n",
            "vraie valeur : 4\n"
          ]
        },
        {
          "output_type": "display_data",
          "data": {
            "text/plain": [
              "<Figure size 432x288 with 1 Axes>"
            ],
            "image/png": "[encoded data removed]"
          },
          "metadata": {
            "needs_background": "light"
          }
        },
        {
          "output_type": "stream",
          "name": "stdout",
          "text": [
            "valeur predite : 1\n",
            "vraie valeur : 1\n"
          ]
        },
        {
          "output_type": "display_data",
          "data": {
            "text/plain": [
              "<Figure size 432x288 with 1 Axes>"
            ],
            "image/png": "[encoded data removed]"
          },
          "metadata": {
            "needs_background": "light"
          }
        },
        {
          "output_type": "stream",
          "name": "stdout",
          "text": [
            "valeur predite : 4\n",
            "vraie valeur : 4\n"
          ]
        },
        {
          "output_type": "display_data",
          "data": {
            "text/plain": [
              "<Figure size 432x288 with 1 Axes>"
            ],
            "image/png": "[encoded data removed]"
          },
          "metadata": {
            "needs_background": "light"
          }
        },
        {
          "output_type": "stream",
          "name": "stdout",
          "text": [
            "valeur predite : 9\n",
            "vraie valeur : 9\n"
          ]
        },
        {
          "output_type": "display_data",
          "data": {
            "text/plain": [
              "<Figure size 432x288 with 1 Axes>"
            ],
            "image/png": "[encoded data removed]"
          },
          "metadata": {
            "needs_background": "light"
          }
        },
        {
          "output_type": "stream",
          "name": "stdout",
          "text": [
            "valeur predite : 5\n",
            "vraie valeur : 5\n"
          ]
        },
        {
          "output_type": "display_data",
          "data": {
            "text/plain": [
              "<Figure size 432x288 with 1 Axes>"
            ],
            "image/png": "[encoded data removed]"
          },
          "metadata": {
            "needs_background": "light"
          }
        },
        {
          "output_type": "stream",
          "name": "stdout",
          "text": [
            "valeur predite : 9\n",
            "vraie valeur : 9\n"
          ]
        },
        {
          "output_type": "display_data",
          "data": {
            "text/plain": [
              "<Figure size 432x288 with 1 Axes>"
            ],
            "image/png": "[encoded data removed]"
          },
          "metadata": {
            "needs_background": "light"
          }
        },
        {
          "output_type": "stream",
          "name": "stdout",
          "text": [
            "valeur predite : 0\n",
            "vraie valeur : 0\n"
          ]
        },
        {
          "output_type": "display_data",
          "data": {
            "text/plain": [
              "<Figure size 432x288 with 1 Axes>"
            ],
            "image/png": "[encoded data removed]"
          },
          "metadata": {
            "needs_background": "light"
          }
        },
        {
          "output_type": "stream",
          "name": "stdout",
          "text": [
            "valeur predite : 6\n",
            "vraie valeur : 6\n"
          ]
        },
        {
          "output_type": "display_data",
          "data": {
            "text/plain": [
              "<Figure size 432x288 with 1 Axes>"
            ],
            "image/png": "[encoded data removed]"
          },
          "metadata": {
            "needs_background": "light"
          }
        }
      ]
    }
  ]
}